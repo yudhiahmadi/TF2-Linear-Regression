{
 "cells": [
  {
   "cell_type": "code",
   "execution_count": 2,
   "id": "e096bbc6",
   "metadata": {},
   "outputs": [
    {
     "name": "stdout",
     "output_type": "stream",
     "text": [
      "2.5.0\n"
     ]
    }
   ],
   "source": [
    "import tensorflow as tf\n",
    "print(tf.__version__)"
   ]
  },
  {
   "cell_type": "code",
   "execution_count": 3,
   "id": "0bebe5e9",
   "metadata": {},
   "outputs": [],
   "source": [
    "import pandas as pd #library dataframe\n",
    "import numpy as np #library operasi dan perhitungan angka (matematika)\n",
    "import matplotlib.pyplot as plt #library pembuatan grafik"
   ]
  },
  {
   "cell_type": "code",
   "execution_count": 4,
   "id": "152af481",
   "metadata": {},
   "outputs": [
    {
     "name": "stderr",
     "output_type": "stream",
     "text": [
      "Traceback (most recent call last):\n",
      "  File \"C:\\Users\\ydhi\\anaconda3\\lib\\urllib\\request.py\", line 1346, in do_open\n",
      "    h.request(req.get_method(), req.selector, req.data, headers,\n",
      "  File \"C:\\Users\\ydhi\\anaconda3\\lib\\http\\client.py\", line 1279, in request\n",
      "    self._send_request(method, url, body, headers, encode_chunked)\n",
      "  File \"C:\\Users\\ydhi\\anaconda3\\lib\\http\\client.py\", line 1325, in _send_request\n",
      "    self.endheaders(body, encode_chunked=encode_chunked)\n",
      "  File \"C:\\Users\\ydhi\\anaconda3\\lib\\http\\client.py\", line 1274, in endheaders\n",
      "    self._send_output(message_body, encode_chunked=encode_chunked)\n",
      "  File \"C:\\Users\\ydhi\\anaconda3\\lib\\http\\client.py\", line 1034, in _send_output\n",
      "    self.send(msg)\n",
      "  File \"C:\\Users\\ydhi\\anaconda3\\lib\\http\\client.py\", line 974, in send\n",
      "    self.connect()\n",
      "  File \"C:\\Users\\ydhi\\anaconda3\\lib\\http\\client.py\", line 1441, in connect\n",
      "    super().connect()\n",
      "  File \"C:\\Users\\ydhi\\anaconda3\\lib\\http\\client.py\", line 945, in connect\n",
      "    self.sock = self._create_connection(\n",
      "  File \"C:\\Users\\ydhi\\anaconda3\\lib\\socket.py\", line 823, in create_connection\n",
      "    for res in getaddrinfo(host, port, 0, SOCK_STREAM):\n",
      "  File \"C:\\Users\\ydhi\\anaconda3\\lib\\socket.py\", line 954, in getaddrinfo\n",
      "    for res in _socket.getaddrinfo(host, port, family, type, proto, flags):\n",
      "socket.gaierror: [Errno 11001] getaddrinfo failed\n",
      "\n",
      "During handling of the above exception, another exception occurred:\n",
      "\n",
      "Traceback (most recent call last):\n",
      "  File \"C:\\Users\\ydhi\\anaconda3\\lib\\runpy.py\", line 197, in _run_module_as_main\n",
      "    return _run_code(code, main_globals, None,\n",
      "  File \"C:\\Users\\ydhi\\anaconda3\\lib\\runpy.py\", line 87, in _run_code\n",
      "    exec(code, run_globals)\n",
      "  File \"C:\\Users\\ydhi\\anaconda3\\lib\\site-packages\\wget.py\", line 568, in <module>\n",
      "    filename = download(args[0], out=options.output)\n",
      "  File \"C:\\Users\\ydhi\\anaconda3\\lib\\site-packages\\wget.py\", line 526, in download\n",
      "    (tmpfile, headers) = ulib.urlretrieve(binurl, tmpfile, callback)\n",
      "  File \"C:\\Users\\ydhi\\anaconda3\\lib\\urllib\\request.py\", line 239, in urlretrieve\n",
      "    with contextlib.closing(urlopen(url, data)) as fp:\n",
      "  File \"C:\\Users\\ydhi\\anaconda3\\lib\\urllib\\request.py\", line 214, in urlopen\n",
      "    return opener.open(url, data, timeout)\n",
      "  File \"C:\\Users\\ydhi\\anaconda3\\lib\\urllib\\request.py\", line 517, in open\n",
      "    response = self._open(req, data)\n",
      "  File \"C:\\Users\\ydhi\\anaconda3\\lib\\urllib\\request.py\", line 534, in _open\n",
      "    result = self._call_chain(self.handle_open, protocol, protocol +\n",
      "  File \"C:\\Users\\ydhi\\anaconda3\\lib\\urllib\\request.py\", line 494, in _call_chain\n",
      "    result = func(*args)\n",
      "  File \"C:\\Users\\ydhi\\anaconda3\\lib\\urllib\\request.py\", line 1389, in https_open\n",
      "    return self.do_open(http.client.HTTPSConnection, req,\n",
      "  File \"C:\\Users\\ydhi\\anaconda3\\lib\\urllib\\request.py\", line 1349, in do_open\n",
      "    raise URLError(err)\n",
      "urllib.error.URLError: <urlopen error [Errno 11001] getaddrinfo failed>\n"
     ]
    }
   ],
   "source": [
    "#mendapatkan data publik\n",
    "!python -m wget https://raw.githubusercontent.com/lazyprogrammer/machine_learning_examples/master/tf2.0/moore.csv"
   ]
  },
  {
   "cell_type": "code",
   "execution_count": 5,
   "id": "1ef35749",
   "metadata": {},
   "outputs": [],
   "source": [
    "data = pd.read_csv('moore.csv', header=None).values\n",
    "X = data[:,0].reshape(-1,1) #Membuat 2 dimensi\n",
    "Y = data[:,-1]"
   ]
  },
  {
   "cell_type": "code",
   "execution_count": 6,
   "id": "21b7bc3f",
   "metadata": {},
   "outputs": [
    {
     "data": {
      "text/plain": [
       "<matplotlib.collections.PathCollection at 0x26fd52cee80>"
      ]
     },
     "execution_count": 6,
     "metadata": {},
     "output_type": "execute_result"
    },
    {
     "data": {
      "image/png": "[encoded data removed]",
      "text/plain": [
       "<Figure size 432x288 with 1 Axes>"
      ]
     },
     "metadata": {
      "needs_background": "light"
     },
     "output_type": "display_data"
    }
   ],
   "source": [
    "#plot data X dan Y\n",
    "plt.scatter(X,Y)"
   ]
  },
  {
   "cell_type": "code",
   "execution_count": 7,
   "id": "bdb72f9f",
   "metadata": {},
   "outputs": [
    {
     "data": {
      "text/plain": [
       "<matplotlib.collections.PathCollection at 0x26fd53e4b50>"
      ]
     },
     "execution_count": 7,
     "metadata": {},
     "output_type": "execute_result"
    },
    {
     "data": {
      "image/png": "[encoded data removed]",
      "text/plain": [
       "<Figure size 432x288 with 1 Axes>"
      ]
     },
     "metadata": {
      "needs_background": "light"
     },
     "output_type": "display_data"
    }
   ],
   "source": [
    "#Karena ingin model linear, maka gunakan log\n",
    "Y = np.log(Y)\n",
    "plt.scatter(X,Y)"
   ]
  },
  {
   "cell_type": "code",
   "execution_count": 8,
   "id": "5dae4bab",
   "metadata": {},
   "outputs": [],
   "source": [
    "#skalakan nilai X agar tidak terlalu besar, namun nanti kita harus mengubahnya lagi\n",
    "X = X - X.mean()"
   ]
  },
  {
   "cell_type": "code",
   "execution_count": 9,
   "id": "37777770",
   "metadata": {},
   "outputs": [
    {
     "name": "stdout",
     "output_type": "stream",
     "text": [
      "WARNING:tensorflow:Please add `keras.layers.InputLayer` instead of `keras.Input` to Sequential model. `keras.Input` is intended to be used by Functional model.\n",
      "Epoch 1/200\n",
      "6/6 [==============================] - 2s 12ms/step - loss: 320.5811\n",
      "Epoch 2/200\n",
      "6/6 [==============================] - 0s 11ms/step - loss: 291.3898\n",
      "Epoch 3/200\n",
      "6/6 [==============================] - 0s 11ms/step - loss: 308.8449\n",
      "Epoch 4/200\n",
      "6/6 [==============================] - 0s 16ms/step - loss: 233.3391\n",
      "Epoch 5/200\n",
      "6/6 [==============================] - 0s 11ms/step - loss: 207.9286\n",
      "Epoch 6/200\n",
      "6/6 [==============================] - 0s 11ms/step - loss: 142.2638\n",
      "Epoch 7/200\n",
      "6/6 [==============================] - 0s 10ms/step - loss: 135.2942\n",
      "Epoch 8/200\n",
      "6/6 [==============================] - 0s 12ms/step - loss: 79.3883\n",
      "Epoch 9/200\n",
      "6/6 [==============================] - 0s 12ms/step - loss: 60.2731\n",
      "Epoch 10/200\n",
      "6/6 [==============================] - 0s 11ms/step - loss: 43.4572\n",
      "Epoch 11/200\n",
      "6/6 [==============================] - 0s 12ms/step - loss: 26.4917\n",
      "Epoch 12/200\n",
      "6/6 [==============================] - 0s 10ms/step - loss: 18.8127\n",
      "Epoch 13/200\n",
      "6/6 [==============================] - 0s 10ms/step - loss: 13.2499\n",
      "Epoch 14/200\n",
      "6/6 [==============================] - 0s 10ms/step - loss: 11.2625\n",
      "Epoch 15/200\n",
      "6/6 [==============================] - 0s 9ms/step - loss: 9.4752\n",
      "Epoch 16/200\n",
      "6/6 [==============================] - 0s 9ms/step - loss: 8.2614\n",
      "Epoch 17/200\n",
      "6/6 [==============================] - 0s 10ms/step - loss: 5.3533\n",
      "Epoch 18/200\n",
      "6/6 [==============================] - 0s 11ms/step - loss: 4.3997\n",
      "Epoch 19/200\n",
      "6/6 [==============================] - 0s 9ms/step - loss: 2.8229\n",
      "Epoch 20/200\n",
      "6/6 [==============================] - 0s 9ms/step - loss: 2.5919\n",
      "Epoch 21/200\n",
      "6/6 [==============================] - 0s 10ms/step - loss: 2.2068\n",
      "Epoch 22/200\n",
      "6/6 [==============================] - 0s 10ms/step - loss: 1.8078\n",
      "Epoch 23/200\n",
      "6/6 [==============================] - 0s 10ms/step - loss: 1.6558\n",
      "Epoch 24/200\n",
      "6/6 [==============================] - 0s 8ms/step - loss: 1.3078\n",
      "Epoch 25/200\n",
      "6/6 [==============================] - 0s 9ms/step - loss: 1.1915\n",
      "Epoch 26/200\n",
      "6/6 [==============================] - 0s 10ms/step - loss: 1.1103\n",
      "Epoch 27/200\n",
      "6/6 [==============================] - 0s 10ms/step - loss: 1.0739\n",
      "Epoch 28/200\n",
      "6/6 [==============================] - 0s 11ms/step - loss: 1.0159\n",
      "Epoch 29/200\n",
      "6/6 [==============================] - 0s 9ms/step - loss: 1.0632\n",
      "Epoch 30/200\n",
      "6/6 [==============================] - 0s 10ms/step - loss: 0.9634\n",
      "Epoch 31/200\n",
      "6/6 [==============================] - 0s 11ms/step - loss: 0.9666\n",
      "Epoch 32/200\n",
      "6/6 [==============================] - 0s 7ms/step - loss: 1.0280\n",
      "Epoch 33/200\n",
      "6/6 [==============================] - 0s 10ms/step - loss: 1.1790\n",
      "Epoch 34/200\n",
      "6/6 [==============================] - 0s 10ms/step - loss: 1.0006\n",
      "Epoch 35/200\n",
      "6/6 [==============================] - 0s 9ms/step - loss: 1.0048\n",
      "Epoch 36/200\n",
      "6/6 [==============================] - 0s 9ms/step - loss: 0.9997\n",
      "Epoch 37/200\n",
      "6/6 [==============================] - 0s 9ms/step - loss: 0.9895\n",
      "Epoch 38/200\n",
      "6/6 [==============================] - 0s 8ms/step - loss: 0.9759\n",
      "Epoch 39/200\n",
      "6/6 [==============================] - 0s 8ms/step - loss: 0.9630\n",
      "Epoch 40/200\n",
      "6/6 [==============================] - 0s 7ms/step - loss: 0.8911\n",
      "Epoch 41/200\n",
      "6/6 [==============================] - 0s 9ms/step - loss: 0.9182\n",
      "Epoch 42/200\n",
      "6/6 [==============================] - 0s 9ms/step - loss: 1.0169\n",
      "Epoch 43/200\n",
      "6/6 [==============================] - 0s 9ms/step - loss: 0.9053\n",
      "Epoch 44/200\n",
      "6/6 [==============================] - 0s 8ms/step - loss: 1.0675\n",
      "Epoch 45/200\n",
      "6/6 [==============================] - 0s 8ms/step - loss: 0.9848\n",
      "Epoch 46/200\n",
      "6/6 [==============================] - 0s 8ms/step - loss: 0.9364\n",
      "Epoch 47/200\n",
      "6/6 [==============================] - 0s 9ms/step - loss: 0.9780\n",
      "Epoch 48/200\n",
      "6/6 [==============================] - 0s 8ms/step - loss: 0.9106\n",
      "Epoch 49/200\n",
      "6/6 [==============================] - 0s 7ms/step - loss: 0.8840\n",
      "Epoch 50/200\n",
      "6/6 [==============================] - 0s 8ms/step - loss: 0.8793\n",
      "Epoch 51/200\n",
      "6/6 [==============================] - 0s 9ms/step - loss: 1.6498\n",
      "Epoch 52/200\n",
      "6/6 [==============================] - 0s 8ms/step - loss: 1.5388\n",
      "Epoch 53/200\n",
      "6/6 [==============================] - 0s 8ms/step - loss: 0.9386\n",
      "Epoch 54/200\n",
      "6/6 [==============================] - 0s 8ms/step - loss: 1.2101\n",
      "Epoch 55/200\n",
      "6/6 [==============================] - 0s 10ms/step - loss: 0.9651\n",
      "Epoch 56/200\n",
      "6/6 [==============================] - 0s 9ms/step - loss: 0.9427\n",
      "Epoch 57/200\n",
      "6/6 [==============================] - 0s 8ms/step - loss: 1.0274\n",
      "Epoch 58/200\n",
      "6/6 [==============================] - 0s 9ms/step - loss: 0.9062\n",
      "Epoch 59/200\n",
      "6/6 [==============================] - 0s 9ms/step - loss: 0.8930\n",
      "Epoch 60/200\n",
      "6/6 [==============================] - 0s 9ms/step - loss: 0.9241\n",
      "Epoch 61/200\n",
      "6/6 [==============================] - 0s 15ms/step - loss: 0.8738\n",
      "Epoch 62/200\n",
      "6/6 [==============================] - 0s 9ms/step - loss: 0.8761\n",
      "Epoch 63/200\n",
      "6/6 [==============================] - 0s 9ms/step - loss: 0.8797\n",
      "Epoch 64/200\n",
      "6/6 [==============================] - 0s 7ms/step - loss: 0.8686\n",
      "Epoch 65/200\n",
      "6/6 [==============================] - 0s 8ms/step - loss: 0.8755\n",
      "Epoch 66/200\n",
      "6/6 [==============================] - 0s 9ms/step - loss: 0.8818\n",
      "Epoch 67/200\n",
      "6/6 [==============================] - 0s 8ms/step - loss: 0.8706\n",
      "Epoch 68/200\n",
      "6/6 [==============================] - 0s 8ms/step - loss: 0.8772\n",
      "Epoch 69/200\n",
      "6/6 [==============================] - 0s 8ms/step - loss: 0.8741\n",
      "Epoch 70/200\n",
      "6/6 [==============================] - 0s 9ms/step - loss: 0.8753\n",
      "Epoch 71/200\n",
      "6/6 [==============================] - 0s 9ms/step - loss: 0.8742\n",
      "Epoch 72/200\n",
      "6/6 [==============================] - 0s 11ms/step - loss: 0.8733\n",
      "Epoch 73/200\n",
      "6/6 [==============================] - 0s 8ms/step - loss: 0.8734\n",
      "Epoch 74/200\n",
      "6/6 [==============================] - 0s 8ms/step - loss: 0.8737\n",
      "Epoch 75/200\n",
      "6/6 [==============================] - 0s 9ms/step - loss: 0.8709\n",
      "Epoch 76/200\n",
      "6/6 [==============================] - 0s 8ms/step - loss: 0.8737\n",
      "Epoch 77/200\n",
      "6/6 [==============================] - 0s 9ms/step - loss: 0.9112\n",
      "Epoch 78/200\n",
      "6/6 [==============================] - 0s 9ms/step - loss: 0.8850\n",
      "Epoch 79/200\n",
      "6/6 [==============================] - 0s 8ms/step - loss: 0.8706\n",
      "Epoch 80/200\n",
      "6/6 [==============================] - 0s 9ms/step - loss: 0.8948\n",
      "Epoch 81/200\n",
      "6/6 [==============================] - 0s 9ms/step - loss: 0.8794\n",
      "Epoch 82/200\n",
      "6/6 [==============================] - 0s 8ms/step - loss: 0.8693\n",
      "Epoch 83/200\n",
      "6/6 [==============================] - 0s 8ms/step - loss: 0.8740\n",
      "Epoch 84/200\n",
      "6/6 [==============================] - 0s 9ms/step - loss: 0.8769\n",
      "Epoch 85/200\n",
      "6/6 [==============================] - 0s 9ms/step - loss: 0.8766\n",
      "Epoch 86/200\n",
      "6/6 [==============================] - 0s 9ms/step - loss: 0.8711\n",
      "Epoch 87/200\n",
      "6/6 [==============================] - 0s 9ms/step - loss: 0.8747\n",
      "Epoch 88/200\n",
      "6/6 [==============================] - 0s 7ms/step - loss: 0.8731\n",
      "Epoch 89/200\n",
      "6/6 [==============================] - 0s 7ms/step - loss: 0.8724\n",
      "Epoch 90/200\n",
      "6/6 [==============================] - 0s 8ms/step - loss: 0.8756\n",
      "Epoch 91/200\n",
      "6/6 [==============================] - 0s 11ms/step - loss: 0.8859\n",
      "Epoch 92/200\n",
      "6/6 [==============================] - 0s 9ms/step - loss: 0.8801\n",
      "Epoch 93/200\n",
      "6/6 [==============================] - 0s 8ms/step - loss: 0.8712\n",
      "Epoch 94/200\n",
      "6/6 [==============================] - 0s 7ms/step - loss: 0.8839\n",
      "Epoch 95/200\n",
      "6/6 [==============================] - 0s 8ms/step - loss: 0.8689\n",
      "Epoch 96/200\n",
      "6/6 [==============================] - 0s 16ms/step - loss: 0.8757\n",
      "Epoch 97/200\n",
      "6/6 [==============================] - 0s 9ms/step - loss: 0.8754\n",
      "Epoch 98/200\n",
      "6/6 [==============================] - 0s 8ms/step - loss: 0.8750\n",
      "Epoch 99/200\n",
      "6/6 [==============================] - ETA: 0s - loss: 1.298 - 0s 9ms/step - loss: 0.8699\n",
      "Epoch 100/200\n",
      "6/6 [==============================] - 0s 8ms/step - loss: 0.9005\n",
      "Epoch 101/200\n"
     ]
    },
    {
     "name": "stdout",
     "output_type": "stream",
     "text": [
      "6/6 [==============================] - 0s 8ms/step - loss: 0.8745\n",
      "Epoch 102/200\n",
      "6/6 [==============================] - 0s 9ms/step - loss: 0.9033\n",
      "Epoch 103/200\n",
      "6/6 [==============================] - 0s 8ms/step - loss: 0.8982\n",
      "Epoch 104/200\n",
      "6/6 [==============================] - 0s 8ms/step - loss: 0.8824\n",
      "Epoch 105/200\n",
      "6/6 [==============================] - 0s 9ms/step - loss: 0.8975\n",
      "Epoch 106/200\n",
      "6/6 [==============================] - 0s 9ms/step - loss: 0.9299\n",
      "Epoch 107/200\n",
      "6/6 [==============================] - 0s 8ms/step - loss: 0.9341\n",
      "Epoch 108/200\n",
      "6/6 [==============================] - 0s 7ms/step - loss: 0.8832\n",
      "Epoch 109/200\n",
      "6/6 [==============================] - 0s 8ms/step - loss: 0.9538\n",
      "Epoch 110/200\n",
      "6/6 [==============================] - 0s 9ms/step - loss: 0.9151\n",
      "Epoch 111/200\n",
      "6/6 [==============================] - 0s 8ms/step - loss: 0.8751\n",
      "Epoch 112/200\n",
      "6/6 [==============================] - 0s 8ms/step - loss: 0.9028\n",
      "Epoch 113/200\n",
      "6/6 [==============================] - 0s 9ms/step - loss: 0.8884\n",
      "Epoch 114/200\n",
      "6/6 [==============================] - 0s 9ms/step - loss: 0.8756\n",
      "Epoch 115/200\n",
      "6/6 [==============================] - 0s 8ms/step - loss: 0.8792\n",
      "Epoch 116/200\n",
      "6/6 [==============================] - 0s 7ms/step - loss: 0.8805\n",
      "Epoch 117/200\n",
      "6/6 [==============================] - 0s 8ms/step - loss: 0.8790\n",
      "Epoch 118/200\n",
      "6/6 [==============================] - 0s 8ms/step - loss: 0.8720\n",
      "Epoch 119/200\n",
      "6/6 [==============================] - 0s 8ms/step - loss: 0.9142\n",
      "Epoch 120/200\n",
      "6/6 [==============================] - 0s 9ms/step - loss: 0.9025\n",
      "Epoch 121/200\n",
      "6/6 [==============================] - 0s 8ms/step - loss: 0.8694\n",
      "Epoch 122/200\n",
      "6/6 [==============================] - 0s 7ms/step - loss: 0.8723\n",
      "Epoch 123/200\n",
      "6/6 [==============================] - 0s 7ms/step - loss: 0.8709\n",
      "Epoch 124/200\n",
      "6/6 [==============================] - 0s 8ms/step - loss: 0.8753\n",
      "Epoch 125/200\n",
      "6/6 [==============================] - 0s 9ms/step - loss: 0.8746\n",
      "Epoch 126/200\n",
      "6/6 [==============================] - 0s 9ms/step - loss: 0.8780\n",
      "Epoch 127/200\n",
      "6/6 [==============================] - 0s 9ms/step - loss: 0.8816\n",
      "Epoch 128/200\n",
      "6/6 [==============================] - 0s 8ms/step - loss: 0.8739\n",
      "Epoch 129/200\n",
      "6/6 [==============================] - 0s 8ms/step - loss: 0.8736\n",
      "Epoch 130/200\n",
      "6/6 [==============================] - 0s 9ms/step - loss: 0.8713\n",
      "Epoch 131/200\n",
      "6/6 [==============================] - 0s 9ms/step - loss: 0.8747\n",
      "Epoch 132/200\n",
      "6/6 [==============================] - 0s 7ms/step - loss: 0.8699\n",
      "Epoch 133/200\n",
      "6/6 [==============================] - 0s 7ms/step - loss: 0.8717\n",
      "Epoch 134/200\n",
      "6/6 [==============================] - 0s 9ms/step - loss: 0.8770\n",
      "Epoch 135/200\n",
      "6/6 [==============================] - 0s 8ms/step - loss: 0.8776\n",
      "Epoch 136/200\n",
      "6/6 [==============================] - 0s 9ms/step - loss: 0.8701\n",
      "Epoch 137/200\n",
      "6/6 [==============================] - 0s 8ms/step - loss: 0.8728\n",
      "Epoch 138/200\n",
      "6/6 [==============================] - 0s 8ms/step - loss: 0.8786\n",
      "Epoch 139/200\n",
      "6/6 [==============================] - 0s 8ms/step - loss: 0.8717\n",
      "Epoch 140/200\n",
      "6/6 [==============================] - 0s 8ms/step - loss: 0.8797\n",
      "Epoch 141/200\n",
      "6/6 [==============================] - 0s 8ms/step - loss: 0.8779\n",
      "Epoch 142/200\n",
      "6/6 [==============================] - 0s 8ms/step - loss: 0.8704\n",
      "Epoch 143/200\n",
      "6/6 [==============================] - 0s 9ms/step - loss: 0.8845\n",
      "Epoch 144/200\n",
      "6/6 [==============================] - 0s 9ms/step - loss: 0.8757\n",
      "Epoch 145/200\n",
      "6/6 [==============================] - 0s 8ms/step - loss: 0.8715\n",
      "Epoch 146/200\n",
      "6/6 [==============================] - 0s 7ms/step - loss: 0.8720\n",
      "Epoch 147/200\n",
      "6/6 [==============================] - 0s 8ms/step - loss: 0.8743\n",
      "Epoch 148/200\n",
      "6/6 [==============================] - 0s 8ms/step - loss: 0.8863\n",
      "Epoch 149/200\n",
      "6/6 [==============================] - 0s 9ms/step - loss: 0.8966\n",
      "Epoch 150/200\n",
      "6/6 [==============================] - 0s 9ms/step - loss: 0.8734\n",
      "Epoch 151/200\n",
      "6/6 [==============================] - 0s 8ms/step - loss: 0.8711\n",
      "Epoch 152/200\n",
      "6/6 [==============================] - 0s 8ms/step - loss: 0.8722\n",
      "Epoch 153/200\n",
      "6/6 [==============================] - 0s 8ms/step - loss: 0.8717\n",
      "Epoch 154/200\n",
      "6/6 [==============================] - 0s 8ms/step - loss: 0.8724\n",
      "Epoch 155/200\n",
      "6/6 [==============================] - 0s 9ms/step - loss: 0.8749\n",
      "Epoch 156/200\n",
      "6/6 [==============================] - 0s 8ms/step - loss: 0.8856\n",
      "Epoch 157/200\n",
      "6/6 [==============================] - 0s 8ms/step - loss: 0.8772\n",
      "Epoch 158/200\n",
      "6/6 [==============================] - 0s 8ms/step - loss: 0.8767\n",
      "Epoch 159/200\n",
      "6/6 [==============================] - 0s 9ms/step - loss: 0.9521\n",
      "Epoch 160/200\n",
      "6/6 [==============================] - 0s 8ms/step - loss: 0.8789\n",
      "Epoch 161/200\n",
      "6/6 [==============================] - 0s 8ms/step - loss: 0.8828\n",
      "Epoch 162/200\n",
      "6/6 [==============================] - 0s 13ms/step - loss: 0.8998\n",
      "Epoch 163/200\n",
      "6/6 [==============================] - 0s 8ms/step - loss: 0.8776\n",
      "Epoch 164/200\n",
      "6/6 [==============================] - 0s 9ms/step - loss: 0.8867\n",
      "Epoch 165/200\n",
      "6/6 [==============================] - 0s 9ms/step - loss: 0.8825\n",
      "Epoch 166/200\n",
      "6/6 [==============================] - 0s 9ms/step - loss: 0.8716\n",
      "Epoch 167/200\n",
      "6/6 [==============================] - 0s 7ms/step - loss: 0.8761\n",
      "Epoch 168/200\n",
      "6/6 [==============================] - 0s 8ms/step - loss: 0.8715\n",
      "Epoch 169/200\n",
      "6/6 [==============================] - 0s 7ms/step - loss: 0.8707\n",
      "Epoch 170/200\n",
      "6/6 [==============================] - 0s 9ms/step - loss: 0.8865\n",
      "Epoch 171/200\n",
      "6/6 [==============================] - 0s 9ms/step - loss: 0.8669\n",
      "Epoch 172/200\n",
      "6/6 [==============================] - 0s 9ms/step - loss: 0.8872\n",
      "Epoch 173/200\n",
      "6/6 [==============================] - 0s 8ms/step - loss: 0.9165\n",
      "Epoch 174/200\n",
      "6/6 [==============================] - 0s 8ms/step - loss: 0.8771\n",
      "Epoch 175/200\n",
      "6/6 [==============================] - 0s 8ms/step - loss: 0.8897\n",
      "Epoch 176/200\n",
      "6/6 [==============================] - 0s 8ms/step - loss: 0.8895\n",
      "Epoch 177/200\n",
      "6/6 [==============================] - 0s 8ms/step - loss: 0.8756\n",
      "Epoch 178/200\n",
      "6/6 [==============================] - 0s 7ms/step - loss: 0.8721\n",
      "Epoch 179/200\n",
      "6/6 [==============================] - 0s 8ms/step - loss: 0.8714\n",
      "Epoch 180/200\n",
      "6/6 [==============================] - 0s 9ms/step - loss: 0.8719\n",
      "Epoch 181/200\n",
      "6/6 [==============================] - 0s 8ms/step - loss: 0.8727\n",
      "Epoch 182/200\n",
      "6/6 [==============================] - 0s 7ms/step - loss: 0.8913\n",
      "Epoch 183/200\n",
      "6/6 [==============================] - 0s 9ms/step - loss: 0.9143\n",
      "Epoch 184/200\n",
      "6/6 [==============================] - 0s 8ms/step - loss: 0.8847\n",
      "Epoch 185/200\n",
      "6/6 [==============================] - ETA: 0s - loss: 2.056 - 0s 9ms/step - loss: 0.8827\n",
      "Epoch 186/200\n",
      "6/6 [==============================] - 0s 7ms/step - loss: 0.9122\n",
      "Epoch 187/200\n",
      "6/6 [==============================] - 0s 7ms/step - loss: 0.8754\n",
      "Epoch 188/200\n",
      "6/6 [==============================] - 0s 8ms/step - loss: 0.8780\n",
      "Epoch 189/200\n",
      "6/6 [==============================] - 0s 9ms/step - loss: 0.8782\n",
      "Epoch 190/200\n",
      "6/6 [==============================] - 0s 8ms/step - loss: 0.8730\n",
      "Epoch 191/200\n",
      "6/6 [==============================] - 0s 9ms/step - loss: 0.8715\n",
      "Epoch 192/200\n",
      "6/6 [==============================] - 0s 11ms/step - loss: 0.8895\n",
      "Epoch 193/200\n",
      "6/6 [==============================] - 0s 8ms/step - loss: 0.8787\n",
      "Epoch 194/200\n",
      "6/6 [==============================] - 0s 9ms/step - loss: 0.8716\n",
      "Epoch 195/200\n",
      "6/6 [==============================] - 0s 8ms/step - loss: 0.8720\n",
      "Epoch 196/200\n",
      "6/6 [==============================] - 0s 13ms/step - loss: 0.8708\n",
      "Epoch 197/200\n",
      "6/6 [==============================] - 0s 9ms/step - loss: 0.8800\n",
      "Epoch 198/200\n",
      "6/6 [==============================] - 0s 8ms/step - loss: 0.8850\n",
      "Epoch 199/200\n",
      "6/6 [==============================] - 0s 8ms/step - loss: 0.8716\n",
      "Epoch 200/200\n",
      "6/6 [==============================] - 0s 8ms/step - loss: 0.8731\n"
     ]
    }
   ],
   "source": [
    "#Mari kita buat model tensorflow\n",
    "model = tf.keras.models.Sequential([\n",
    "    tf.keras.layers.Input(shape=(1,)),\n",
    "    tf.keras.layers.Dense(1)\n",
    "])\n",
    "\n",
    "model.compile(optimizer=tf.keras.optimizers.SGD(0.001, 0.9), loss='mse')\n",
    "\n",
    "#Bisa juga pakai optimizer adam kalau mau \n",
    "#model.compile(optimizer='adam', loss='mse')\n",
    "\n",
    "#learning rate scheduler\n",
    "def schedule(epoch, lr):\n",
    "    if epoch>= 50:\n",
    "        return 0.0001 # Jika epoch lebih dari 50 maka lr diperkecil agar lebih presisi\n",
    "    return 0.001 # lr standar (dibawah 50) segini agar tidak terlalu lama\n",
    "\n",
    "#menerapkan fungsi diatas\n",
    "scheduler = tf.keras.callbacks.LearningRateScheduler(schedule)\n",
    "\n",
    "#Training model\n",
    "r = model.fit(X, Y, epochs=200, callbacks=[scheduler])"
   ]
  },
  {
   "cell_type": "code",
   "execution_count": 10,
   "id": "d9ce794e",
   "metadata": {},
   "outputs": [
    {
     "data": {
      "text/plain": [
       "[<matplotlib.lines.Line2D at 0x26fdbb89340>]"
      ]
     },
     "execution_count": 10,
     "metadata": {},
     "output_type": "execute_result"
    },
    {
     "data": {
      "image/png": "[encoded data removed]",
      "text/plain": [
       "<Figure size 432x288 with 1 Axes>"
      ]
     },
     "metadata": {
      "needs_background": "light"
     },
     "output_type": "display_data"
    }
   ],
   "source": [
    "#plot hasil loss\n",
    "plt.plot(r.history['loss'], label='loss')"
   ]
  },
  {
   "cell_type": "code",
   "execution_count": 11,
   "id": "6d2e3b51",
   "metadata": {},
   "outputs": [
    {
     "name": "stdout",
     "output_type": "stream",
     "text": [
      "[<tensorflow.python.keras.layers.core.Dense object at 0x0000026FD545E220>]\n",
      "<bound method Layer.get_weights of <tensorflow.python.keras.layers.core.Dense object at 0x0000026FD545E220>>\n"
     ]
    }
   ],
   "source": [
    "# W is vector\n",
    "# b is scalar\n",
    "#W.shape = (D, M)\n",
    "#b.shape = (M,)\n",
    "\n",
    "#D = input size\n",
    "#M = output size\n",
    "\n",
    "#mendapatkan garis slope\n",
    "#\n",
    "print(model.layers)\n",
    "print(model.layers[0].get_weights)"
   ]
  },
  {
   "cell_type": "code",
   "execution_count": 12,
   "id": "a8781339",
   "metadata": {},
   "outputs": [],
   "source": [
    "# garis slope\n",
    "a = model.layers[0].get_weights()[0][0,0]"
   ]
  },
  {
   "cell_type": "code",
   "execution_count": 13,
   "id": "f02f5ea7",
   "metadata": {},
   "outputs": [
    {
     "name": "stdout",
     "output_type": "stream",
     "text": [
      "time to double : 2.030408598028166\n"
     ]
    }
   ],
   "source": [
    "print(\"time to double :\", np.log(2) / a)"
   ]
  },
  {
   "cell_type": "code",
   "execution_count": 14,
   "id": "51d61656",
   "metadata": {},
   "outputs": [
    {
     "name": "stdout",
     "output_type": "stream",
     "text": [
      "0.341682487387313 17.764939393631764\n",
      "Time to double : 2.0286295205239204\n"
     ]
    }
   ],
   "source": [
    "# if you know theanalytical solution\n",
    "X = np.array(X).flatten()\n",
    "Y = np.array(Y)\n",
    "denominator = X.dot(X) - X.mean() * X.sum()\n",
    "a = ( X.dot(Y) - Y.mean() * X.sum()) / denominator\n",
    "b = ( Y.mean() * X.dot(X) - X.mean() * X.dot(Y) )/ denominator\n",
    "print(a,b)\n",
    "print(\"Time to double :\", np.log(2) / a)"
   ]
  },
  {
   "cell_type": "markdown",
   "id": "999cb7ca",
   "metadata": {},
   "source": [
    "## Membuat Prediksi :"
   ]
  },
  {
   "cell_type": "code",
   "execution_count": 15,
   "id": "59a5d406",
   "metadata": {},
   "outputs": [
    {
     "data": {
      "text/plain": [
       "[<matplotlib.lines.Line2D at 0x26fdbbe6a60>]"
      ]
     },
     "execution_count": 15,
     "metadata": {},
     "output_type": "execute_result"
    },
    {
     "data": {
      "image/png": "[encoded data removed]",
      "text/plain": [
       "<Figure size 432x288 with 1 Axes>"
      ]
     },
     "metadata": {
      "needs_background": "light"
     },
     "output_type": "display_data"
    }
   ],
   "source": [
    "#Membuat garis yakin di data kita\n",
    "Yhat = model.predict(X).flatten() # load model kita\n",
    "plt.scatter(X, Y)\n",
    "plt.plot(X, Yhat)"
   ]
  },
  {
   "cell_type": "code",
   "execution_count": 16,
   "id": "79359210",
   "metadata": {},
   "outputs": [
    {
     "data": {
      "text/plain": [
       "True"
      ]
     },
     "execution_count": 16,
     "metadata": {},
     "output_type": "execute_result"
    }
   ],
   "source": [
    "# Perhitungan Manual \n",
    "# mendapatkan berat\n",
    "w, b = model.layers[0].get_weights()\n",
    "\n",
    "# Reshape X because we flattened it again earlier\n",
    "X = X.reshape(-1, 1)\n",
    "\n",
    "# (N x 1) x (1 x 1) + (1) --> (N x 1)\n",
    "Yhat2 = (X.dot(w) + b).flatten()\n",
    "\n",
    "# Dont use == for floating points\n",
    "np.allclose(Yhat, Yhat2)"
   ]
  },
  {
   "cell_type": "code",
   "execution_count": null,
   "id": "12780533",
   "metadata": {},
   "outputs": [],
   "source": []
  }
 ],
 "metadata": {
  "kernelspec": {
   "display_name": "Python 3 (ipykernel)",
   "language": "python",
   "name": "python3"
  },
  "language_info": {
   "codemirror_mode": {
    "name": "ipython",
    "version": 3
   },
   "file_extension": ".py",
   "mimetype": "text/x-python",
   "name": "python",
   "nbconvert_exporter": "python",
   "pygments_lexer": "ipython3",
   "version": "3.9.7"
  }
 },
 "nbformat": 4,
 "nbformat_minor": 5
}
