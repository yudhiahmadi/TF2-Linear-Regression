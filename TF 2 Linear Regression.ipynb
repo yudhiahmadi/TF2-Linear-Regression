{
 "cells": [
  {
   "cell_type": "code",
   "execution_count": 6,
   "id": "e096bbc6",
   "metadata": {},
   "outputs": [
    {
     "name": "stdout",
     "output_type": "stream",
     "text": [
      "2.5.0\n"
     ]
    }
   ],
   "source": [
    "import tensorflow as tf\n",
    "print(tf.__version__)"
   ]
  },
  {
   "cell_type": "code",
   "execution_count": 7,
   "id": "0bebe5e9",
   "metadata": {},
   "outputs": [],
   "source": [
    "import pandas as pd #library dataframe\n",
    "import numpy as np #library operasi dan perhitungan angka (matematika)\n",
    "import matplotlib.pyplot as plt #library pembuatan grafik"
   ]
  },
  {
   "cell_type": "code",
   "execution_count": 4,
   "id": "152af481",
   "metadata": {},
   "outputs": [
    {
     "name": "stdout",
     "output_type": "stream",
     "text": [
      "\n",
      "Saved under moore.csv\n"
     ]
    }
   ],
   "source": [
    "#mendapatkan data publik\n",
    "!python -m wget https://raw.githubusercontent.com/lazyprogrammer/machine_learning_examples/master/tf2.0/moore.csv"
   ]
  },
  {
   "cell_type": "code",
   "execution_count": 16,
   "id": "1ef35749",
   "metadata": {},
   "outputs": [],
   "source": [
    "data = pd.read_csv('moore.csv', header=None).values\n",
    "X = data[:,0].reshape(-1,1) #Membuat 2 dimensi\n",
    "Y = data[:,-1]"
   ]
  },
  {
   "cell_type": "code",
   "execution_count": 18,
   "id": "21b7bc3f",
   "metadata": {},
   "outputs": [
    {
     "data": {
      "text/plain": [
       "<matplotlib.collections.PathCollection at 0x213c0f649a0>"
      ]
     },
     "execution_count": 18,
     "metadata": {},
     "output_type": "execute_result"
    },
    {
     "data": {
      "image/png": "[encoded data removed]",
      "text/plain": [
       "<Figure size 432x288 with 1 Axes>"
      ]
     },
     "metadata": {
      "needs_background": "light"
     },
     "output_type": "display_data"
    }
   ],
   "source": [
    "#plot data X dan Y\n",
    "plt.scatter(X,Y)"
   ]
  },
  {
   "cell_type": "code",
   "execution_count": 19,
   "id": "bdb72f9f",
   "metadata": {},
   "outputs": [
    {
     "data": {
      "text/plain": [
       "<matplotlib.collections.PathCollection at 0x213c0fc69d0>"
      ]
     },
     "execution_count": 19,
     "metadata": {},
     "output_type": "execute_result"
    },
    {
     "data": {
      "image/png": "[encoded data removed]",
      "text/plain": [
       "<Figure size 432x288 with 1 Axes>"
      ]
     },
     "metadata": {
      "needs_background": "light"
     },
     "output_type": "display_data"
    }
   ],
   "source": [
    "#Karena ingin model linear, maka gunakan log\n",
    "Y = np.log(Y)\n",
    "plt.scatter(X,Y)"
   ]
  },
  {
   "cell_type": "code",
   "execution_count": 20,
   "id": "5dae4bab",
   "metadata": {},
   "outputs": [],
   "source": [
    "#skalakan nilai X agar tidak terlalu besar, namun nanti kita harus mengubahnya lagi\n",
    "X = X - X.mean()"
   ]
  },
  {
   "cell_type": "code",
   "execution_count": 24,
   "id": "37777770",
   "metadata": {},
   "outputs": [
    {
     "name": "stdout",
     "output_type": "stream",
     "text": [
      "WARNING:tensorflow:Please add `keras.layers.InputLayer` instead of `keras.Input` to Sequential model. `keras.Input` is intended to be used by Functional model.\n",
      "Epoch 1/200\n",
      "6/6 [==============================] - 3s 9ms/step - loss: 354.8260\n",
      "Epoch 2/200\n",
      "6/6 [==============================] - 0s 8ms/step - loss: 315.2900\n",
      "Epoch 3/200\n",
      "6/6 [==============================] - 0s 9ms/step - loss: 244.1251\n",
      "Epoch 4/200\n",
      "6/6 [==============================] - 0s 8ms/step - loss: 237.2934\n",
      "Epoch 5/200\n",
      "6/6 [==============================] - 0s 9ms/step - loss: 164.0597\n",
      "Epoch 6/200\n",
      "6/6 [==============================] - 0s 9ms/step - loss: 144.5313\n",
      "Epoch 7/200\n",
      "6/6 [==============================] - 0s 10ms/step - loss: 103.0625\n",
      "Epoch 8/200\n",
      "6/6 [==============================] - 0s 9ms/step - loss: 72.1675\n",
      "Epoch 9/200\n",
      "6/6 [==============================] - 0s 9ms/step - loss: 55.9485\n",
      "Epoch 10/200\n",
      "6/6 [==============================] - 0s 9ms/step - loss: 45.5345\n",
      "Epoch 11/200\n",
      "6/6 [==============================] - 0s 9ms/step - loss: 51.5701\n",
      "Epoch 12/200\n",
      "6/6 [==============================] - 0s 9ms/step - loss: 63.7137\n",
      "Epoch 13/200\n",
      "6/6 [==============================] - 0s 8ms/step - loss: 30.0472\n",
      "Epoch 14/200\n",
      "6/6 [==============================] - 0s 8ms/step - loss: 17.5700\n",
      "Epoch 15/200\n",
      "6/6 [==============================] - 0s 8ms/step - loss: 11.8695\n",
      "Epoch 16/200\n",
      "6/6 [==============================] - 0s 8ms/step - loss: 7.7300\n",
      "Epoch 17/200\n",
      "6/6 [==============================] - 0s 10ms/step - loss: 5.4387\n",
      "Epoch 18/200\n",
      "6/6 [==============================] - 0s 9ms/step - loss: 4.0850\n",
      "Epoch 19/200\n",
      "6/6 [==============================] - 0s 10ms/step - loss: 3.4915\n",
      "Epoch 20/200\n",
      "6/6 [==============================] - 0s 9ms/step - loss: 3.4106\n",
      "Epoch 21/200\n",
      "6/6 [==============================] - 0s 8ms/step - loss: 2.2783\n",
      "Epoch 22/200\n",
      "6/6 [==============================] - 0s 9ms/step - loss: 1.9525\n",
      "Epoch 23/200\n",
      "6/6 [==============================] - 0s 9ms/step - loss: 1.6361\n",
      "Epoch 24/200\n",
      "6/6 [==============================] - 0s 9ms/step - loss: 1.3456\n",
      "Epoch 25/200\n",
      "6/6 [==============================] - 0s 8ms/step - loss: 1.2043\n",
      "Epoch 26/200\n",
      "6/6 [==============================] - 0s 9ms/step - loss: 1.1276\n",
      "Epoch 27/200\n",
      "6/6 [==============================] - 0s 9ms/step - loss: 1.0233\n",
      "Epoch 28/200\n",
      "6/6 [==============================] - 0s 9ms/step - loss: 1.1691\n",
      "Epoch 29/200\n",
      "6/6 [==============================] - 0s 10ms/step - loss: 1.5122\n",
      "Epoch 30/200\n",
      "6/6 [==============================] - 0s 10ms/step - loss: 1.3538\n",
      "Epoch 31/200\n",
      "6/6 [==============================] - 0s 8ms/step - loss: 0.9349\n",
      "Epoch 32/200\n",
      "6/6 [==============================] - 0s 9ms/step - loss: 0.9088\n",
      "Epoch 33/200\n",
      "6/6 [==============================] - 0s 9ms/step - loss: 0.9343\n",
      "Epoch 34/200\n",
      "6/6 [==============================] - 0s 8ms/step - loss: 0.9752\n",
      "Epoch 35/200\n",
      "6/6 [==============================] - 0s 9ms/step - loss: 1.0352\n",
      "Epoch 36/200\n",
      "6/6 [==============================] - 0s 9ms/step - loss: 1.1981\n",
      "Epoch 37/200\n",
      "6/6 [==============================] - 0s 9ms/step - loss: 0.9739\n",
      "Epoch 38/200\n",
      "6/6 [==============================] - 0s 8ms/step - loss: 1.0421\n",
      "Epoch 39/200\n",
      "6/6 [==============================] - 0s 8ms/step - loss: 1.0428\n",
      "Epoch 40/200\n",
      "6/6 [==============================] - 0s 8ms/step - loss: 0.9377\n",
      "Epoch 41/200\n",
      "6/6 [==============================] - 0s 8ms/step - loss: 1.0241\n",
      "Epoch 42/200\n",
      "6/6 [==============================] - 0s 8ms/step - loss: 0.9864\n",
      "Epoch 43/200\n",
      "6/6 [==============================] - 0s 8ms/step - loss: 0.9430\n",
      "Epoch 44/200\n",
      "6/6 [==============================] - 0s 9ms/step - loss: 0.9087\n",
      "Epoch 45/200\n",
      "6/6 [==============================] - 0s 8ms/step - loss: 0.9020\n",
      "Epoch 46/200\n",
      "6/6 [==============================] - 0s 8ms/step - loss: 0.8910\n",
      "Epoch 47/200\n",
      "6/6 [==============================] - 0s 8ms/step - loss: 0.8830\n",
      "Epoch 48/200\n",
      "6/6 [==============================] - 0s 8ms/step - loss: 0.8974\n",
      "Epoch 49/200\n",
      "6/6 [==============================] - 0s 10ms/step - loss: 0.8926\n",
      "Epoch 50/200\n",
      "6/6 [==============================] - 0s 9ms/step - loss: 0.9517\n",
      "Epoch 51/200\n",
      "6/6 [==============================] - 0s 8ms/step - loss: 1.1160\n",
      "Epoch 52/200\n",
      "6/6 [==============================] - 0s 9ms/step - loss: 1.0279\n",
      "Epoch 53/200\n",
      "6/6 [==============================] - 0s 9ms/step - loss: 0.8944\n",
      "Epoch 54/200\n",
      "6/6 [==============================] - 0s 9ms/step - loss: 0.9269\n",
      "Epoch 55/200\n",
      "6/6 [==============================] - 0s 9ms/step - loss: 0.9137\n",
      "Epoch 56/200\n",
      "6/6 [==============================] - 0s 9ms/step - loss: 0.8748\n",
      "Epoch 57/200\n",
      "6/6 [==============================] - 0s 9ms/step - loss: 0.9037\n",
      "Epoch 58/200\n",
      "6/6 [==============================] - 0s 9ms/step - loss: 0.9029\n",
      "Epoch 59/200\n",
      "6/6 [==============================] - 0s 10ms/step - loss: 0.8779\n",
      "Epoch 60/200\n",
      "6/6 [==============================] - 0s 10ms/step - loss: 0.8808\n",
      "Epoch 61/200\n",
      "6/6 [==============================] - 0s 10ms/step - loss: 0.8732\n",
      "Epoch 62/200\n",
      "6/6 [==============================] - 0s 11ms/step - loss: 0.8718\n",
      "Epoch 63/200\n",
      "6/6 [==============================] - 0s 10ms/step - loss: 0.8711\n",
      "Epoch 64/200\n",
      "6/6 [==============================] - 0s 9ms/step - loss: 0.8750\n",
      "Epoch 65/200\n",
      "6/6 [==============================] - 0s 8ms/step - loss: 0.8711\n",
      "Epoch 66/200\n",
      "6/6 [==============================] - 0s 9ms/step - loss: 0.8843\n",
      "Epoch 67/200\n",
      "6/6 [==============================] - 0s 8ms/step - loss: 0.8876\n",
      "Epoch 68/200\n",
      "6/6 [==============================] - 0s 16ms/step - loss: 0.8776\n",
      "Epoch 69/200\n",
      "6/6 [==============================] - 0s 9ms/step - loss: 0.8697\n",
      "Epoch 70/200\n",
      "6/6 [==============================] - 0s 9ms/step - loss: 0.8739\n",
      "Epoch 71/200\n",
      "6/6 [==============================] - 0s 9ms/step - loss: 0.8753\n",
      "Epoch 72/200\n",
      "6/6 [==============================] - 0s 9ms/step - loss: 0.8770\n",
      "Epoch 73/200\n",
      "6/6 [==============================] - 0s 9ms/step - loss: 0.8751\n",
      "Epoch 74/200\n",
      "6/6 [==============================] - 0s 9ms/step - loss: 0.8723\n",
      "Epoch 75/200\n",
      "6/6 [==============================] - 0s 9ms/step - loss: 0.8788\n",
      "Epoch 76/200\n",
      "6/6 [==============================] - 0s 10ms/step - loss: 0.8791\n",
      "Epoch 77/200\n",
      "6/6 [==============================] - 0s 9ms/step - loss: 0.8771\n",
      "Epoch 78/200\n",
      "6/6 [==============================] - 0s 10ms/step - loss: 0.8731\n",
      "Epoch 79/200\n",
      "6/6 [==============================] - 0s 9ms/step - loss: 0.8719\n",
      "Epoch 80/200\n",
      "6/6 [==============================] - 0s 11ms/step - loss: 0.8734\n",
      "Epoch 81/200\n",
      "6/6 [==============================] - 0s 12ms/step - loss: 0.8722\n",
      "Epoch 82/200\n",
      "6/6 [==============================] - 0s 9ms/step - loss: 0.8719\n",
      "Epoch 83/200\n",
      "6/6 [==============================] - 0s 8ms/step - loss: 0.8778\n",
      "Epoch 84/200\n",
      "6/6 [==============================] - 0s 8ms/step - loss: 0.8815\n",
      "Epoch 85/200\n",
      "6/6 [==============================] - 0s 11ms/step - loss: 0.8718\n",
      "Epoch 86/200\n",
      "6/6 [==============================] - 0s 9ms/step - loss: 0.8739\n",
      "Epoch 87/200\n",
      "6/6 [==============================] - 0s 11ms/step - loss: 0.8730\n",
      "Epoch 88/200\n",
      "6/6 [==============================] - 0s 9ms/step - loss: 0.8715\n",
      "Epoch 89/200\n",
      "6/6 [==============================] - 0s 9ms/step - loss: 0.8704\n",
      "Epoch 90/200\n",
      "6/6 [==============================] - 0s 9ms/step - loss: 0.8702\n",
      "Epoch 91/200\n",
      "6/6 [==============================] - 0s 9ms/step - loss: 0.8824\n",
      "Epoch 92/200\n",
      "6/6 [==============================] - 0s 8ms/step - loss: 0.8785\n",
      "Epoch 93/200\n",
      "6/6 [==============================] - 0s 9ms/step - loss: 0.8740\n",
      "Epoch 94/200\n",
      "6/6 [==============================] - 0s 9ms/step - loss: 0.8746\n",
      "Epoch 95/200\n",
      "6/6 [==============================] - 0s 10ms/step - loss: 0.8819\n",
      "Epoch 96/200\n",
      "6/6 [==============================] - 0s 10ms/step - loss: 0.8728\n",
      "Epoch 97/200\n",
      "6/6 [==============================] - 0s 9ms/step - loss: 0.8710\n",
      "Epoch 98/200\n",
      "6/6 [==============================] - 0s 9ms/step - loss: 0.8720\n",
      "Epoch 99/200\n",
      "6/6 [==============================] - 0s 12ms/step - loss: 0.8723\n",
      "Epoch 100/200\n",
      "6/6 [==============================] - 0s 12ms/step - loss: 0.8721\n",
      "Epoch 101/200\n",
      "6/6 [==============================] - 0s 11ms/step - loss: 0.8729\n",
      "Epoch 102/200\n"
     ]
    },
    {
     "name": "stdout",
     "output_type": "stream",
     "text": [
      "6/6 [==============================] - 0s 9ms/step - loss: 0.8734\n",
      "Epoch 103/200\n",
      "6/6 [==============================] - 0s 10ms/step - loss: 0.8742\n",
      "Epoch 104/200\n",
      "6/6 [==============================] - 0s 10ms/step - loss: 0.8705\n",
      "Epoch 105/200\n",
      "6/6 [==============================] - 0s 9ms/step - loss: 0.8753\n",
      "Epoch 106/200\n",
      "6/6 [==============================] - 0s 10ms/step - loss: 0.8724\n",
      "Epoch 107/200\n",
      "6/6 [==============================] - 0s 9ms/step - loss: 0.8733\n",
      "Epoch 108/200\n",
      "6/6 [==============================] - 0s 10ms/step - loss: 0.8763\n",
      "Epoch 109/200\n",
      "6/6 [==============================] - 0s 9ms/step - loss: 0.8784\n",
      "Epoch 110/200\n",
      "6/6 [==============================] - 0s 8ms/step - loss: 0.8849\n",
      "Epoch 111/200\n",
      "6/6 [==============================] - 0s 8ms/step - loss: 0.8746\n",
      "Epoch 112/200\n",
      "6/6 [==============================] - 0s 9ms/step - loss: 0.8728\n",
      "Epoch 113/200\n",
      "6/6 [==============================] - 0s 12ms/step - loss: 0.9057\n",
      "Epoch 114/200\n",
      "6/6 [==============================] - 0s 10ms/step - loss: 0.9100\n",
      "Epoch 115/200\n",
      "6/6 [==============================] - 0s 12ms/step - loss: 0.8672\n",
      "Epoch 116/200\n",
      "6/6 [==============================] - 0s 12ms/step - loss: 0.8905\n",
      "Epoch 117/200\n",
      "6/6 [==============================] - 0s 8ms/step - loss: 0.8816\n",
      "Epoch 118/200\n",
      "6/6 [==============================] - 0s 9ms/step - loss: 0.8749\n",
      "Epoch 119/200\n",
      "6/6 [==============================] - 0s 8ms/step - loss: 0.8759\n",
      "Epoch 120/200\n",
      "6/6 [==============================] - 0s 8ms/step - loss: 0.8737\n",
      "Epoch 121/200\n",
      "6/6 [==============================] - 0s 8ms/step - loss: 0.8728\n",
      "Epoch 122/200\n",
      "6/6 [==============================] - 0s 9ms/step - loss: 0.8898\n",
      "Epoch 123/200\n",
      "6/6 [==============================] - 0s 8ms/step - loss: 0.8958\n",
      "Epoch 124/200\n",
      "6/6 [==============================] - 0s 8ms/step - loss: 0.8801\n",
      "Epoch 125/200\n",
      "6/6 [==============================] - 0s 8ms/step - loss: 0.8852\n",
      "Epoch 126/200\n",
      "6/6 [==============================] - 0s 13ms/step - loss: 0.8810\n",
      "Epoch 127/200\n",
      "6/6 [==============================] - 0s 10ms/step - loss: 0.8707\n",
      "Epoch 128/200\n",
      "6/6 [==============================] - 0s 8ms/step - loss: 0.8860\n",
      "Epoch 129/200\n",
      "6/6 [==============================] - 0s 13ms/step - loss: 0.8836\n",
      "Epoch 130/200\n",
      "6/6 [==============================] - 0s 11ms/step - loss: 0.8712\n",
      "Epoch 131/200\n",
      "6/6 [==============================] - 0s 14ms/step - loss: 0.8701\n",
      "Epoch 132/200\n",
      "6/6 [==============================] - 0s 11ms/step - loss: 0.9197\n",
      "Epoch 133/200\n",
      "6/6 [==============================] - 0s 8ms/step - loss: 0.8979\n",
      "Epoch 134/200\n",
      "6/6 [==============================] - 0s 9ms/step - loss: 0.8867\n",
      "Epoch 135/200\n",
      "6/6 [==============================] - 0s 8ms/step - loss: 0.8846\n",
      "Epoch 136/200\n",
      "6/6 [==============================] - 0s 9ms/step - loss: 0.8713\n",
      "Epoch 137/200\n",
      "6/6 [==============================] - 0s 10ms/step - loss: 0.8753\n",
      "Epoch 138/200\n",
      "6/6 [==============================] - 0s 8ms/step - loss: 0.8727\n",
      "Epoch 139/200\n",
      "6/6 [==============================] - 0s 9ms/step - loss: 0.8701\n",
      "Epoch 140/200\n",
      "6/6 [==============================] - 0s 9ms/step - loss: 0.8765\n",
      "Epoch 141/200\n",
      "6/6 [==============================] - 0s 9ms/step - loss: 0.8727\n",
      "Epoch 142/200\n",
      "6/6 [==============================] - 0s 9ms/step - loss: 0.8725\n",
      "Epoch 143/200\n",
      "6/6 [==============================] - 0s 8ms/step - loss: 0.8784\n",
      "Epoch 144/200\n",
      "6/6 [==============================] - 0s 9ms/step - loss: 0.8734\n",
      "Epoch 145/200\n",
      "6/6 [==============================] - 0s 8ms/step - loss: 0.8744\n",
      "Epoch 146/200\n",
      "6/6 [==============================] - 0s 8ms/step - loss: 0.8712\n",
      "Epoch 147/200\n",
      "6/6 [==============================] - 0s 8ms/step - loss: 0.8710\n",
      "Epoch 148/200\n",
      "6/6 [==============================] - 0s 8ms/step - loss: 0.8769\n",
      "Epoch 149/200\n",
      "6/6 [==============================] - 0s 8ms/step - loss: 0.8713\n",
      "Epoch 150/200\n",
      "6/6 [==============================] - 0s 8ms/step - loss: 0.8705\n",
      "Epoch 151/200\n",
      "6/6 [==============================] - 0s 8ms/step - loss: 0.8710\n",
      "Epoch 152/200\n",
      "6/6 [==============================] - 0s 7ms/step - loss: 0.8731\n",
      "Epoch 153/200\n",
      "6/6 [==============================] - 0s 9ms/step - loss: 0.8716\n",
      "Epoch 154/200\n",
      "6/6 [==============================] - 0s 8ms/step - loss: 0.8730\n",
      "Epoch 155/200\n",
      "6/6 [==============================] - 0s 16ms/step - loss: 0.8771\n",
      "Epoch 156/200\n",
      "6/6 [==============================] - 0s 13ms/step - loss: 0.8714\n",
      "Epoch 157/200\n",
      "6/6 [==============================] - 0s 13ms/step - loss: 0.8717\n",
      "Epoch 158/200\n",
      "6/6 [==============================] - 0s 14ms/step - loss: 0.8728\n",
      "Epoch 159/200\n",
      "6/6 [==============================] - 0s 11ms/step - loss: 0.8675\n",
      "Epoch 160/200\n",
      "6/6 [==============================] - 0s 11ms/step - loss: 0.8797\n",
      "Epoch 161/200\n",
      "6/6 [==============================] - 0s 9ms/step - loss: 0.8708\n",
      "Epoch 162/200\n",
      "6/6 [==============================] - 0s 11ms/step - loss: 0.8880\n",
      "Epoch 163/200\n",
      "6/6 [==============================] - 0s 9ms/step - loss: 0.8723\n",
      "Epoch 164/200\n",
      "6/6 [==============================] - 0s 11ms/step - loss: 0.9264\n",
      "Epoch 165/200\n",
      "6/6 [==============================] - 0s 10ms/step - loss: 0.8899\n",
      "Epoch 166/200\n",
      "6/6 [==============================] - 0s 9ms/step - loss: 0.8697\n",
      "Epoch 167/200\n",
      "6/6 [==============================] - 0s 10ms/step - loss: 0.8756\n",
      "Epoch 168/200\n",
      "6/6 [==============================] - 0s 9ms/step - loss: 0.8794\n",
      "Epoch 169/200\n",
      "6/6 [==============================] - 0s 9ms/step - loss: 0.8799\n",
      "Epoch 170/200\n",
      "6/6 [==============================] - 0s 10ms/step - loss: 0.8710\n",
      "Epoch 171/200\n",
      "6/6 [==============================] - 0s 10ms/step - loss: 0.8703\n",
      "Epoch 172/200\n",
      "6/6 [==============================] - 0s 9ms/step - loss: 0.8739\n",
      "Epoch 173/200\n",
      "6/6 [==============================] - 0s 9ms/step - loss: 0.8695\n",
      "Epoch 174/200\n",
      "6/6 [==============================] - 0s 10ms/step - loss: 0.8870\n",
      "Epoch 175/200\n",
      "6/6 [==============================] - 0s 9ms/step - loss: 0.8987\n",
      "Epoch 176/200\n",
      "6/6 [==============================] - 0s 8ms/step - loss: 0.8934\n",
      "Epoch 177/200\n",
      "6/6 [==============================] - 0s 8ms/step - loss: 0.9053\n",
      "Epoch 178/200\n",
      "6/6 [==============================] - 0s 8ms/step - loss: 0.8763\n",
      "Epoch 179/200\n",
      "6/6 [==============================] - 0s 8ms/step - loss: 0.8766\n",
      "Epoch 180/200\n",
      "6/6 [==============================] - 0s 8ms/step - loss: 0.8785\n",
      "Epoch 181/200\n",
      "6/6 [==============================] - 0s 9ms/step - loss: 0.8700\n",
      "Epoch 182/200\n",
      "6/6 [==============================] - 0s 9ms/step - loss: 0.8711\n",
      "Epoch 183/200\n",
      "6/6 [==============================] - 0s 9ms/step - loss: 0.8765\n",
      "Epoch 184/200\n",
      "6/6 [==============================] - 0s 9ms/step - loss: 0.8731\n",
      "Epoch 185/200\n",
      "6/6 [==============================] - 0s 8ms/step - loss: 0.8698\n",
      "Epoch 186/200\n",
      "6/6 [==============================] - 0s 10ms/step - loss: 0.8854\n",
      "Epoch 187/200\n",
      "6/6 [==============================] - 0s 9ms/step - loss: 0.8857\n",
      "Epoch 188/200\n",
      "6/6 [==============================] - 0s 9ms/step - loss: 0.8762\n",
      "Epoch 189/200\n",
      "6/6 [==============================] - 0s 10ms/step - loss: 0.8780\n",
      "Epoch 190/200\n",
      "6/6 [==============================] - 0s 12ms/step - loss: 0.8740\n",
      "Epoch 191/200\n",
      "6/6 [==============================] - 0s 10ms/step - loss: 0.8713\n",
      "Epoch 192/200\n",
      "6/6 [==============================] - 0s 20ms/step - loss: 0.8731\n",
      "Epoch 193/200\n",
      "6/6 [==============================] - 0s 10ms/step - loss: 0.8807\n",
      "Epoch 194/200\n",
      "6/6 [==============================] - 0s 11ms/step - loss: 0.8744\n",
      "Epoch 195/200\n",
      "6/6 [==============================] - 0s 11ms/step - loss: 0.8738\n",
      "Epoch 196/200\n",
      "6/6 [==============================] - 0s 10ms/step - loss: 0.8931\n",
      "Epoch 197/200\n",
      "6/6 [==============================] - 0s 11ms/step - loss: 0.8941\n",
      "Epoch 198/200\n",
      "6/6 [==============================] - 0s 10ms/step - loss: 0.8766\n",
      "Epoch 199/200\n",
      "6/6 [==============================] - 0s 11ms/step - loss: 0.8764\n",
      "Epoch 200/200\n",
      "6/6 [==============================] - 0s 10ms/step - loss: 0.8739\n"
     ]
    }
   ],
   "source": [
    "#Mari kita buat model tensorflow\n",
    "model = tf.keras.models.Sequential([\n",
    "    tf.keras.layers.Input(shape=(1,)),\n",
    "    tf.keras.layers.Dense(1)\n",
    "])\n",
    "\n",
    "model.compile(optimizer=tf.keras.optimizers.SGD(0.001, 0.9), loss='mse')\n",
    "\n",
    "#Bisa juga pakai optimizer adam kalau mau \n",
    "#model.compile(optimizer='adam', loss='mse')\n",
    "\n",
    "#learning rate scheduler\n",
    "def schedule(epoch, lr):\n",
    "    if epoch>= 50:\n",
    "        return 0.0001 # Jika epoch lebih dari 50 maka lr diperkecil agar lebih presisi\n",
    "    return 0.001 # lr standar (dibawah 50) segini agar tidak terlalu lama\n",
    "\n",
    "#menerapkan fungsi diatas\n",
    "scheduler = tf.keras.callbacks.LearningRateScheduler(schedule)\n",
    "\n",
    "#Training model\n",
    "r = model.fit(X, Y, epochs=200, callbacks=[scheduler])"
   ]
  },
  {
   "cell_type": "code",
   "execution_count": 26,
   "id": "d9ce794e",
   "metadata": {},
   "outputs": [
    {
     "data": {
      "text/plain": [
       "[<matplotlib.lines.Line2D at 0x213d0a865e0>]"
      ]
     },
     "execution_count": 26,
     "metadata": {},
     "output_type": "execute_result"
    },
    {
     "data": {
      "image/png": "[encoded data removed]",
      "text/plain": [
       "<Figure size 432x288 with 1 Axes>"
      ]
     },
     "metadata": {
      "needs_background": "light"
     },
     "output_type": "display_data"
    }
   ],
   "source": [
    "#plot hasil loss\n",
    "plt.plot(r.history['loss'], label='loss')"
   ]
  },
  {
   "cell_type": "code",
   "execution_count": 27,
   "id": "6d2e3b51",
   "metadata": {},
   "outputs": [
    {
     "name": "stdout",
     "output_type": "stream",
     "text": [
      "[<tensorflow.python.keras.layers.core.Dense object at 0x00000213C1039280>]\n",
      "<bound method Layer.get_weights of <tensorflow.python.keras.layers.core.Dense object at 0x00000213C1039280>>\n"
     ]
    }
   ],
   "source": [
    "# W is vector\n",
    "# b is scalar\n",
    "#W.shape = (D, M)\n",
    "#b.shape = (M,)\n",
    "\n",
    "#D = input size\n",
    "#M = output size\n",
    "\n",
    "#mendapatkan garis slope\n",
    "#\n",
    "print(model.layers)\n",
    "print(model.layers[0].get_weights)"
   ]
  },
  {
   "cell_type": "code",
   "execution_count": 28,
   "id": "a8781339",
   "metadata": {},
   "outputs": [],
   "source": [
    "# garis slope\n",
    "a = model.layers[0].get_weights()[0][0,0]"
   ]
  },
  {
   "cell_type": "code",
   "execution_count": 29,
   "id": "f02f5ea7",
   "metadata": {},
   "outputs": [
    {
     "name": "stdout",
     "output_type": "stream",
     "text": [
      "time to double : 2.0207500300478203\n"
     ]
    }
   ],
   "source": [
    "print(\"time to double :\", np.log(2) / a)"
   ]
  },
  {
   "cell_type": "code",
   "execution_count": 30,
   "id": "51d61656",
   "metadata": {},
   "outputs": [
    {
     "name": "stdout",
     "output_type": "stream",
     "text": [
      "0.341682487387313 17.764939393631764\n",
      "Time to double : 2.0286295205239204\n"
     ]
    }
   ],
   "source": [
    "# if you know theanalytical solution\n",
    "X = np.array(X).flatten()\n",
    "Y = np.array(Y)\n",
    "denominator = X.dot(X) - X.mean() * X.sum()\n",
    "a = ( X.dot(Y) - Y.mean() * X.sum()) / denominator\n",
    "b = ( Y.mean() * X.dot(X) - X.mean() * X.dot(Y) )/ denominator\n",
    "print(a,b)\n",
    "print(\"Time to double :\", np.log(2) / a)"
   ]
  },
  {
   "cell_type": "code",
   "execution_count": null,
   "id": "c4b6a67f",
   "metadata": {},
   "outputs": [],
   "source": []
  }
 ],
 "metadata": {
  "kernelspec": {
   "display_name": "Python 3 (ipykernel)",
   "language": "python",
   "name": "python3"
  },
  "language_info": {
   "codemirror_mode": {
    "name": "ipython",
    "version": 3
   },
   "file_extension": ".py",
   "mimetype": "text/x-python",
   "name": "python",
   "nbconvert_exporter": "python",
   "pygments_lexer": "ipython3",
   "version": "3.9.7"
  }
 },
 "nbformat": 4,
 "nbformat_minor": 5
}
